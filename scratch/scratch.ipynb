{
 "metadata": {
  "language_info": {
   "codemirror_mode": {
    "name": "ipython",
    "version": 3
   },
   "file_extension": ".py",
   "mimetype": "text/x-python",
   "name": "python",
   "nbconvert_exporter": "python",
   "pygments_lexer": "ipython3",
   "version": "3.8.5-final"
  },
  "orig_nbformat": 2,
  "kernelspec": {
   "name": "python385jvsc74a57bd0ed3ce22d6d3013eece9909bf975f87b8ce5fa891118e6c752155e3eb90f0c390",
   "display_name": "Python 3.8.5 64-bit ('base': conda)"
  }
 },
 "nbformat": 4,
 "nbformat_minor": 2,
 "cells": [
  {
   "cell_type": "code",
   "execution_count": 4,
   "metadata": {},
   "outputs": [],
   "source": [
    "import pandas as pd"
   ]
  },
  {
   "cell_type": "code",
   "execution_count": 5,
   "metadata": {},
   "outputs": [
    {
     "output_type": "execute_result",
     "data": {
      "text/plain": [
       "         Date                  Round   Region  Winning Seed  \\\n",
       "0     3/14/85            Round of 64     East             1   \n",
       "1     3/14/85            Round of 64     East             4   \n",
       "2     3/14/85            Round of 64     East             5   \n",
       "3     3/14/85            Round of 64     East             8   \n",
       "4     3/14/85            Round of 64  Midwest             1   \n",
       "...       ...                    ...      ...           ...   \n",
       "2045  3/27/16            Elite Eight     East             1   \n",
       "2046  3/27/16            Elite Eight  Midwest            10   \n",
       "2047   4/2/16    National Semifinals      NaN             1   \n",
       "2048   4/2/16    National Semifinals      NaN             2   \n",
       "2049   4/4/16  National Championship      NaN             2   \n",
       "\n",
       "                  Winner  Winning Score  Losing Seed               Loser  \\\n",
       "0             Georgetown             68           16              Lehigh   \n",
       "1       Loyola, Illinois             59           13                Iona   \n",
       "2     Southern Methodist             85           12        Old Dominion   \n",
       "3                 Temple             60            9       Virginia Tech   \n",
       "4               Oklahoma             96           16  North Carolina A&T   \n",
       "...                  ...            ...          ...                 ...   \n",
       "2045      North Carolina             88            6          Notre Dame   \n",
       "2046            Syracuse             68            1            Virginia   \n",
       "2047      North Carolina             83           10            Syracuse   \n",
       "2048           Villanova             95            2            Oklahoma   \n",
       "2049           Villanova             77            1      North Carolina   \n",
       "\n",
       "      Losing Score Overtime  \n",
       "0               43      NaN  \n",
       "1               58      NaN  \n",
       "2               68      NaN  \n",
       "3               57      NaN  \n",
       "4               83      NaN  \n",
       "...            ...      ...  \n",
       "2045            74      NaN  \n",
       "2046            62      NaN  \n",
       "2047            66      NaN  \n",
       "2048            51      NaN  \n",
       "2049            74      NaN  \n",
       "\n",
       "[2050 rows x 10 columns]"
      ],
      "text/html": "<div>\n<style scoped>\n    .dataframe tbody tr th:only-of-type {\n        vertical-align: middle;\n    }\n\n    .dataframe tbody tr th {\n        vertical-align: top;\n    }\n\n    .dataframe thead th {\n        text-align: right;\n    }\n</style>\n<table border=\"1\" class=\"dataframe\">\n  <thead>\n    <tr style=\"text-align: right;\">\n      <th></th>\n      <th>Date</th>\n      <th>Round</th>\n      <th>Region</th>\n      <th>Winning Seed</th>\n      <th>Winner</th>\n      <th>Winning Score</th>\n      <th>Losing Seed</th>\n      <th>Loser</th>\n      <th>Losing Score</th>\n      <th>Overtime</th>\n    </tr>\n  </thead>\n  <tbody>\n    <tr>\n      <th>0</th>\n      <td>3/14/85</td>\n      <td>Round of 64</td>\n      <td>East</td>\n      <td>1</td>\n      <td>Georgetown</td>\n      <td>68</td>\n      <td>16</td>\n      <td>Lehigh</td>\n      <td>43</td>\n      <td>NaN</td>\n    </tr>\n    <tr>\n      <th>1</th>\n      <td>3/14/85</td>\n      <td>Round of 64</td>\n      <td>East</td>\n      <td>4</td>\n      <td>Loyola, Illinois</td>\n      <td>59</td>\n      <td>13</td>\n      <td>Iona</td>\n      <td>58</td>\n      <td>NaN</td>\n    </tr>\n    <tr>\n      <th>2</th>\n      <td>3/14/85</td>\n      <td>Round of 64</td>\n      <td>East</td>\n      <td>5</td>\n      <td>Southern Methodist</td>\n      <td>85</td>\n      <td>12</td>\n      <td>Old Dominion</td>\n      <td>68</td>\n      <td>NaN</td>\n    </tr>\n    <tr>\n      <th>3</th>\n      <td>3/14/85</td>\n      <td>Round of 64</td>\n      <td>East</td>\n      <td>8</td>\n      <td>Temple</td>\n      <td>60</td>\n      <td>9</td>\n      <td>Virginia Tech</td>\n      <td>57</td>\n      <td>NaN</td>\n    </tr>\n    <tr>\n      <th>4</th>\n      <td>3/14/85</td>\n      <td>Round of 64</td>\n      <td>Midwest</td>\n      <td>1</td>\n      <td>Oklahoma</td>\n      <td>96</td>\n      <td>16</td>\n      <td>North Carolina A&amp;T</td>\n      <td>83</td>\n      <td>NaN</td>\n    </tr>\n    <tr>\n      <th>...</th>\n      <td>...</td>\n      <td>...</td>\n      <td>...</td>\n      <td>...</td>\n      <td>...</td>\n      <td>...</td>\n      <td>...</td>\n      <td>...</td>\n      <td>...</td>\n      <td>...</td>\n    </tr>\n    <tr>\n      <th>2045</th>\n      <td>3/27/16</td>\n      <td>Elite Eight</td>\n      <td>East</td>\n      <td>1</td>\n      <td>North Carolina</td>\n      <td>88</td>\n      <td>6</td>\n      <td>Notre Dame</td>\n      <td>74</td>\n      <td>NaN</td>\n    </tr>\n    <tr>\n      <th>2046</th>\n      <td>3/27/16</td>\n      <td>Elite Eight</td>\n      <td>Midwest</td>\n      <td>10</td>\n      <td>Syracuse</td>\n      <td>68</td>\n      <td>1</td>\n      <td>Virginia</td>\n      <td>62</td>\n      <td>NaN</td>\n    </tr>\n    <tr>\n      <th>2047</th>\n      <td>4/2/16</td>\n      <td>National Semifinals</td>\n      <td>NaN</td>\n      <td>1</td>\n      <td>North Carolina</td>\n      <td>83</td>\n      <td>10</td>\n      <td>Syracuse</td>\n      <td>66</td>\n      <td>NaN</td>\n    </tr>\n    <tr>\n      <th>2048</th>\n      <td>4/2/16</td>\n      <td>National Semifinals</td>\n      <td>NaN</td>\n      <td>2</td>\n      <td>Villanova</td>\n      <td>95</td>\n      <td>2</td>\n      <td>Oklahoma</td>\n      <td>51</td>\n      <td>NaN</td>\n    </tr>\n    <tr>\n      <th>2049</th>\n      <td>4/4/16</td>\n      <td>National Championship</td>\n      <td>NaN</td>\n      <td>2</td>\n      <td>Villanova</td>\n      <td>77</td>\n      <td>1</td>\n      <td>North Carolina</td>\n      <td>74</td>\n      <td>NaN</td>\n    </tr>\n  </tbody>\n</table>\n<p>2050 rows × 10 columns</p>\n</div>"
     },
     "metadata": {},
     "execution_count": 5
    }
   ],
   "source": [
    "df = pd.read_csv(\"data/ncaa-mens-historical.csv\")\n",
    "df"
   ]
  },
  {
   "cell_type": "code",
   "execution_count": 8,
   "metadata": {},
   "outputs": [],
   "source": [
    "def to_tsv(data,filename=\"out.tsv\"):\n",
    "    data.to_csv(\"output/\"+ filename, index=False, sep=\"\\t\")\n",
    "\n",
    "def to_csv(data,filename=\"out.csv\"):\n",
    "    data.to_csv(\"output/\"+ filename, index=False)\n",
    "\n",
    "\n",
    "def to_json(data,filename=\"out.json\"):\n",
    "    data.to_json(\"output/\"+ filename, orient=\"table\")"
   ]
  },
  {
   "cell_type": "code",
   "execution_count": 10,
   "metadata": {},
   "outputs": [
    {
     "output_type": "execute_result",
     "data": {
      "text/plain": [
       "Index(['Date', 'Round', 'Region', 'Winning Seed', 'Winner', 'Winning Score',\n",
       "       'Losing Seed', 'Loser', 'Losing Score', 'Overtime'],\n",
       "      dtype='object')"
      ]
     },
     "metadata": {},
     "execution_count": 10
    }
   ],
   "source": [
    "df.columns"
   ]
  },
  {
   "cell_type": "code",
   "execution_count": 11,
   "metadata": {},
   "outputs": [
    {
     "output_type": "error",
     "ename": "ImportError",
     "evalue": "cannot import name 'style_from_dict' from 'prompt_toolkit.styles' (/Users/jung/opt/anaconda3/lib/python3.8/site-packages/prompt_toolkit/styles/__init__.py)",
     "traceback": [
      "\u001b[0;31m---------------------------------------------------------------------------\u001b[0m",
      "\u001b[0;31mImportError\u001b[0m                               Traceback (most recent call last)",
      "\u001b[0;32m<ipython-input-11-66fdf85990d8>\u001b[0m in \u001b[0;36m<module>\u001b[0;34m\u001b[0m\n\u001b[0;32m----> 1\u001b[0;31m \u001b[0;32mimport\u001b[0m \u001b[0mPyInquirer\u001b[0m\u001b[0;34m\u001b[0m\u001b[0;34m\u001b[0m\u001b[0m\n\u001b[0m",
      "\u001b[0;32m~/opt/anaconda3/lib/python3.8/site-packages/PyInquirer/__init__.py\u001b[0m in \u001b[0;36m<module>\u001b[0;34m\u001b[0m\n\u001b[1;32m      5\u001b[0m \u001b[0;34m\u001b[0m\u001b[0m\n\u001b[1;32m      6\u001b[0m \u001b[0;32mfrom\u001b[0m \u001b[0mprompt_toolkit\u001b[0m\u001b[0;34m.\u001b[0m\u001b[0mtoken\u001b[0m \u001b[0;32mimport\u001b[0m \u001b[0mToken\u001b[0m\u001b[0;34m\u001b[0m\u001b[0;34m\u001b[0m\u001b[0m\n\u001b[0;32m----> 7\u001b[0;31m \u001b[0;32mfrom\u001b[0m \u001b[0mprompt_toolkit\u001b[0m\u001b[0;34m.\u001b[0m\u001b[0mstyles\u001b[0m \u001b[0;32mimport\u001b[0m \u001b[0mstyle_from_dict\u001b[0m\u001b[0;34m\u001b[0m\u001b[0;34m\u001b[0m\u001b[0m\n\u001b[0m\u001b[1;32m      8\u001b[0m \u001b[0;32mfrom\u001b[0m \u001b[0mprompt_toolkit\u001b[0m\u001b[0;34m.\u001b[0m\u001b[0mvalidation\u001b[0m \u001b[0;32mimport\u001b[0m \u001b[0mValidator\u001b[0m\u001b[0;34m,\u001b[0m \u001b[0mValidationError\u001b[0m\u001b[0;34m\u001b[0m\u001b[0;34m\u001b[0m\u001b[0m\n\u001b[1;32m      9\u001b[0m \u001b[0;34m\u001b[0m\u001b[0m\n",
      "\u001b[0;31mImportError\u001b[0m: cannot import name 'style_from_dict' from 'prompt_toolkit.styles' (/Users/jung/opt/anaconda3/lib/python3.8/site-packages/prompt_toolkit/styles/__init__.py)"
     ]
    }
   ],
   "source": [
    "import PyInquirer"
   ]
  },
  {
   "cell_type": "code",
   "execution_count": 12,
   "metadata": {},
   "outputs": [
    {
     "output_type": "execute_result",
     "data": {
      "text/plain": [
       "       Winning Seed  Winning Score  Losing Seed  Losing Score\n",
       "count   2050.000000    2050.000000  2050.000000   2050.000000\n",
       "mean       4.922927      76.909268     8.699512     65.215122\n",
       "std        3.783800      11.975148     4.601064     11.196940\n",
       "min        1.000000      43.000000     1.000000     29.000000\n",
       "25%        2.000000      69.000000     5.000000     58.000000\n",
       "50%        4.000000      76.000000     9.000000     64.500000\n",
       "75%        7.000000      84.000000    13.000000     72.000000\n",
       "max       16.000000     149.000000    16.000000    115.000000"
      ],
      "text/html": "<div>\n<style scoped>\n    .dataframe tbody tr th:only-of-type {\n        vertical-align: middle;\n    }\n\n    .dataframe tbody tr th {\n        vertical-align: top;\n    }\n\n    .dataframe thead th {\n        text-align: right;\n    }\n</style>\n<table border=\"1\" class=\"dataframe\">\n  <thead>\n    <tr style=\"text-align: right;\">\n      <th></th>\n      <th>Winning Seed</th>\n      <th>Winning Score</th>\n      <th>Losing Seed</th>\n      <th>Losing Score</th>\n    </tr>\n  </thead>\n  <tbody>\n    <tr>\n      <th>count</th>\n      <td>2050.000000</td>\n      <td>2050.000000</td>\n      <td>2050.000000</td>\n      <td>2050.000000</td>\n    </tr>\n    <tr>\n      <th>mean</th>\n      <td>4.922927</td>\n      <td>76.909268</td>\n      <td>8.699512</td>\n      <td>65.215122</td>\n    </tr>\n    <tr>\n      <th>std</th>\n      <td>3.783800</td>\n      <td>11.975148</td>\n      <td>4.601064</td>\n      <td>11.196940</td>\n    </tr>\n    <tr>\n      <th>min</th>\n      <td>1.000000</td>\n      <td>43.000000</td>\n      <td>1.000000</td>\n      <td>29.000000</td>\n    </tr>\n    <tr>\n      <th>25%</th>\n      <td>2.000000</td>\n      <td>69.000000</td>\n      <td>5.000000</td>\n      <td>58.000000</td>\n    </tr>\n    <tr>\n      <th>50%</th>\n      <td>4.000000</td>\n      <td>76.000000</td>\n      <td>9.000000</td>\n      <td>64.500000</td>\n    </tr>\n    <tr>\n      <th>75%</th>\n      <td>7.000000</td>\n      <td>84.000000</td>\n      <td>13.000000</td>\n      <td>72.000000</td>\n    </tr>\n    <tr>\n      <th>max</th>\n      <td>16.000000</td>\n      <td>149.000000</td>\n      <td>16.000000</td>\n      <td>115.000000</td>\n    </tr>\n  </tbody>\n</table>\n</div>"
     },
     "metadata": {},
     "execution_count": 12
    }
   ],
   "source": [
    "df.describe()"
   ]
  },
  {
   "cell_type": "code",
   "execution_count": 28,
   "metadata": {},
   "outputs": [],
   "source": [
    "l = ['UAB',\n",
    " 'Florida',\n",
    " 'Georgetown',\n",
    " 'Delaware']"
   ]
  },
  {
   "cell_type": "code",
   "execution_count": 30,
   "metadata": {},
   "outputs": [
    {
     "output_type": "execute_result",
     "data": {
      "text/plain": [
       "         Date          Round   Region  Winning Seed      Winner  \\\n",
       "0     3/14/85    Round of 64     East             1  Georgetown   \n",
       "22    3/15/85    Round of 64  Midwest             7         UAB   \n",
       "32    3/16/85    Round of 32     East             1  Georgetown   \n",
       "48    3/21/85  Sweet Sixteen     East             1  Georgetown   \n",
       "56    3/23/85    Elite Eight     East             1  Georgetown   \n",
       "...       ...            ...      ...           ...         ...   \n",
       "1889  3/22/14    Round of 32    South             1     Florida   \n",
       "1901  3/27/14  Sweet Sixteen    South             1     Florida   \n",
       "1909  3/29/14    Elite Eight    South             1     Florida   \n",
       "1926  3/19/15    Round of 64    South             4  Georgetown   \n",
       "1929  3/19/15    Round of 64    South            14         UAB   \n",
       "\n",
       "      Winning Score  Losing Seed               Loser  Losing Score Overtime  \n",
       "0                68           16              Lehigh            43      NaN  \n",
       "22               70           10      Michigan State            68      NaN  \n",
       "32               63            8              Temple            46      NaN  \n",
       "48               65            4    Loyola, Illinois            53      NaN  \n",
       "56               60            2        Georgia Tech            54      NaN  \n",
       "...             ...          ...                 ...           ...      ...  \n",
       "1889             61            9          Pittsburgh            45      NaN  \n",
       "1901             79            4                UCLA            68      NaN  \n",
       "1909             62           11              Dayton            52      NaN  \n",
       "1926             84           13  Eastern Washington            74      NaN  \n",
       "1929             60            3          Iowa State            59      NaN  \n",
       "\n",
       "[81 rows x 10 columns]"
      ],
      "text/html": "<div>\n<style scoped>\n    .dataframe tbody tr th:only-of-type {\n        vertical-align: middle;\n    }\n\n    .dataframe tbody tr th {\n        vertical-align: top;\n    }\n\n    .dataframe thead th {\n        text-align: right;\n    }\n</style>\n<table border=\"1\" class=\"dataframe\">\n  <thead>\n    <tr style=\"text-align: right;\">\n      <th></th>\n      <th>Date</th>\n      <th>Round</th>\n      <th>Region</th>\n      <th>Winning Seed</th>\n      <th>Winner</th>\n      <th>Winning Score</th>\n      <th>Losing Seed</th>\n      <th>Loser</th>\n      <th>Losing Score</th>\n      <th>Overtime</th>\n    </tr>\n  </thead>\n  <tbody>\n    <tr>\n      <th>0</th>\n      <td>3/14/85</td>\n      <td>Round of 64</td>\n      <td>East</td>\n      <td>1</td>\n      <td>Georgetown</td>\n      <td>68</td>\n      <td>16</td>\n      <td>Lehigh</td>\n      <td>43</td>\n      <td>NaN</td>\n    </tr>\n    <tr>\n      <th>22</th>\n      <td>3/15/85</td>\n      <td>Round of 64</td>\n      <td>Midwest</td>\n      <td>7</td>\n      <td>UAB</td>\n      <td>70</td>\n      <td>10</td>\n      <td>Michigan State</td>\n      <td>68</td>\n      <td>NaN</td>\n    </tr>\n    <tr>\n      <th>32</th>\n      <td>3/16/85</td>\n      <td>Round of 32</td>\n      <td>East</td>\n      <td>1</td>\n      <td>Georgetown</td>\n      <td>63</td>\n      <td>8</td>\n      <td>Temple</td>\n      <td>46</td>\n      <td>NaN</td>\n    </tr>\n    <tr>\n      <th>48</th>\n      <td>3/21/85</td>\n      <td>Sweet Sixteen</td>\n      <td>East</td>\n      <td>1</td>\n      <td>Georgetown</td>\n      <td>65</td>\n      <td>4</td>\n      <td>Loyola, Illinois</td>\n      <td>53</td>\n      <td>NaN</td>\n    </tr>\n    <tr>\n      <th>56</th>\n      <td>3/23/85</td>\n      <td>Elite Eight</td>\n      <td>East</td>\n      <td>1</td>\n      <td>Georgetown</td>\n      <td>60</td>\n      <td>2</td>\n      <td>Georgia Tech</td>\n      <td>54</td>\n      <td>NaN</td>\n    </tr>\n    <tr>\n      <th>...</th>\n      <td>...</td>\n      <td>...</td>\n      <td>...</td>\n      <td>...</td>\n      <td>...</td>\n      <td>...</td>\n      <td>...</td>\n      <td>...</td>\n      <td>...</td>\n      <td>...</td>\n    </tr>\n    <tr>\n      <th>1889</th>\n      <td>3/22/14</td>\n      <td>Round of 32</td>\n      <td>South</td>\n      <td>1</td>\n      <td>Florida</td>\n      <td>61</td>\n      <td>9</td>\n      <td>Pittsburgh</td>\n      <td>45</td>\n      <td>NaN</td>\n    </tr>\n    <tr>\n      <th>1901</th>\n      <td>3/27/14</td>\n      <td>Sweet Sixteen</td>\n      <td>South</td>\n      <td>1</td>\n      <td>Florida</td>\n      <td>79</td>\n      <td>4</td>\n      <td>UCLA</td>\n      <td>68</td>\n      <td>NaN</td>\n    </tr>\n    <tr>\n      <th>1909</th>\n      <td>3/29/14</td>\n      <td>Elite Eight</td>\n      <td>South</td>\n      <td>1</td>\n      <td>Florida</td>\n      <td>62</td>\n      <td>11</td>\n      <td>Dayton</td>\n      <td>52</td>\n      <td>NaN</td>\n    </tr>\n    <tr>\n      <th>1926</th>\n      <td>3/19/15</td>\n      <td>Round of 64</td>\n      <td>South</td>\n      <td>4</td>\n      <td>Georgetown</td>\n      <td>84</td>\n      <td>13</td>\n      <td>Eastern Washington</td>\n      <td>74</td>\n      <td>NaN</td>\n    </tr>\n    <tr>\n      <th>1929</th>\n      <td>3/19/15</td>\n      <td>Round of 64</td>\n      <td>South</td>\n      <td>14</td>\n      <td>UAB</td>\n      <td>60</td>\n      <td>3</td>\n      <td>Iowa State</td>\n      <td>59</td>\n      <td>NaN</td>\n    </tr>\n  </tbody>\n</table>\n<p>81 rows × 10 columns</p>\n</div>"
     },
     "metadata": {},
     "execution_count": 30
    }
   ],
   "source": [
    "df[df.Winner.isin(l) | df.Winner.isin(l) ]"
   ]
  },
  {
   "cell_type": "code",
   "execution_count": 35,
   "metadata": {},
   "outputs": [
    {
     "output_type": "stream",
     "name": "stdout",
     "text": [
      "Pretty printing has been turned OFF\n"
     ]
    }
   ],
   "source": [
    "pprint(df.describe())"
   ]
  },
  {
   "cell_type": "code",
   "execution_count": null,
   "metadata": {},
   "outputs": [],
   "source": []
  }
 ]
}